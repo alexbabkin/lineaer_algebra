{
 "cells": [
  {
   "cell_type": "code",
   "execution_count": 34,
   "metadata": {},
   "outputs": [],
   "source": [
    "def swap_rows(a, b, row_num1, row_num2):\n",
    "    a[row_num1], a[row_num2] = a[row_num2], a[row_num1]\n",
    "    b[row_num1], b[row_num2] = b[row_num2], b[row_num1]"
   ]
  },
  {
   "cell_type": "code",
   "execution_count": 35,
   "metadata": {},
   "outputs": [],
   "source": [
    "def add_rwos_with_coef(a, b, row_num, source_row_num, coeff):\n",
    "    a[row_num] = [(i + j * coeff) for i, j in zip(a[row_num], a[source_row_num])]\n",
    "    b[row_num] += b[source_row_num] * coeff"
   ]
  },
  {
   "cell_type": "code",
   "execution_count": 40,
   "metadata": {},
   "outputs": [],
   "source": [
    "def devide_row(a, b, row_num, coef):\n",
    "    a[row_num] = [i / coef for i in a[row_num]]\n",
    "    b[row_num] /= coef"
   ]
  },
  {
   "cell_type": "code",
   "execution_count": 37,
   "metadata": {},
   "outputs": [],
   "source": [
    "def gauss(a, b):\n",
    "    column_num = 0\n",
    "    while (column_num < len(b)):\n",
    "        #Ищем максимальный по модулю элемент\n",
    "        current_row_num = None\n",
    "        for r in range(column_num, len(a)):\n",
    "            if current_row_num is None or abs(a[r][column_num]) > abs(a[current_row_num][column_num]):\n",
    "                 current_row_num = r\n",
    "        if current_row_num is None:\n",
    "            return None\n",
    "        if current_row_num != column_num:\n",
    "            swap_rows(a, b, current_row_num, column_num)\n",
    "        devide_row(a, b, column_num, a[column_num][column_num])\n",
    "        for r in range(column_num + 1, len(a)):\n",
    "            add_rwos_with_coef(a, b, r, column_num, -a[r][column_num])\n",
    "        column_num += 1\n",
    "    #Матрица приведена к треугольному виду\n",
    "    res = [0 for i in b]\n",
    "    for j in range(len(b) - 1, -1, -1):\n",
    "        res[j] = b[j] - sum(x * k for x, k in zip(res[(j + 1):], a[j][(j + 1):]))\n",
    "    return res"
   ]
  },
  {
   "cell_type": "code",
   "execution_count": 38,
   "metadata": {},
   "outputs": [],
   "source": [
    "a = [[81, -45, 45], [-45, 50, -15], [45, -15, 38]]\n",
    "b = [531, -460, 193]"
   ]
  },
  {
   "cell_type": "code",
   "execution_count": 41,
   "metadata": {},
   "outputs": [
    {
     "data": {
      "text/plain": [
       "[6.0, -5.0, -4.0]"
      ]
     },
     "execution_count": 41,
     "metadata": {},
     "output_type": "execute_result"
    }
   ],
   "source": [
    "gauss(a, b)"
   ]
  }
 ],
 "metadata": {
  "kernelspec": {
   "display_name": "Python 3",
   "language": "python",
   "name": "python3"
  },
  "language_info": {
   "codemirror_mode": {
    "name": "ipython",
    "version": 3
   },
   "file_extension": ".py",
   "mimetype": "text/x-python",
   "name": "python",
   "nbconvert_exporter": "python",
   "pygments_lexer": "ipython3",
   "version": "3.6.8"
  }
 },
 "nbformat": 4,
 "nbformat_minor": 2
}
